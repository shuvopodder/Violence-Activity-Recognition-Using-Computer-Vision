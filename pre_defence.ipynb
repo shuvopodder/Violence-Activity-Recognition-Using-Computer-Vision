{
  "cells": [
    {
      "cell_type": "markdown",
      "metadata": {
        "id": "7ApWHv6bJVcB"
      },
      "source": [
        "## Mount To Drive"
      ]
    },
    {
      "cell_type": "code",
      "execution_count": null,
      "metadata": {
        "colab": {
          "base_uri": "https://localhost:8080/"
        },
        "id": "pDmiYgeQ2ee2",
        "outputId": "e0ccae7c-e10a-4267-e56a-5e450c36f6cc"
      },
      "outputs": [
        {
          "name": "stdout",
          "output_type": "stream",
          "text": [
            "Mounted at /gdrive\n",
            "/gdrive\n"
          ]
        }
      ],
      "source": [
        "from google.colab import drive\n",
        "drive.mount('/gdrive')\n",
        "%cd /gdrive"
      ]
    },
    {
      "cell_type": "code",
      "execution_count": null,
      "metadata": {
        "colab": {
          "base_uri": "https://localhost:8080/"
        },
        "id": "fJmy2RNs21xS",
        "outputId": "add498d1-6f92-4984-e11e-c119b0774a22"
      },
      "outputs": [
        {
          "name": "stdout",
          "output_type": "stream",
          "text": [
            "/gdrive/My Drive\n"
          ]
        }
      ],
      "source": [
        "%cd 'My Drive'"
      ]
    },
    {
      "cell_type": "code",
      "execution_count": null,
      "metadata": {
        "colab": {
          "base_uri": "https://localhost:8080/"
        },
        "id": "t2ps171L3NGw",
        "outputId": "f75ca68b-5ce6-4f0b-85e4-c49dab924ef7"
      },
      "outputs": [
        {
          "name": "stdout",
          "output_type": "stream",
          "text": [
            "/gdrive/My Drive/Action Recognition\n"
          ]
        }
      ],
      "source": [
        "#switch to folder\n",
        "%cd 'Action Recognition'"
      ]
    },
    {
      "cell_type": "code",
      "execution_count": null,
      "metadata": {
        "id": "OYXvOgOP39wC"
      },
      "outputs": [],
      "source": [
        "#%cd datasets"
      ]
    },
    {
      "cell_type": "code",
      "execution_count": null,
      "metadata": {
        "colab": {
          "base_uri": "https://localhost:8080/"
        },
        "id": "4AEW4Jnp33eB",
        "outputId": "5a68da07-32ff-473e-a4b0-debad3d9405c"
      },
      "outputs": [
        {
          "name": "stdout",
          "output_type": "stream",
          "text": [
            " ai-cctv-c37fe-default-rtdb-export.json\n",
            " conv_lstm_2d.h5\n",
            " \u001b[0m\u001b[01;34mdatasets\u001b[0m/\n",
            " \u001b[01;34mFirebase\u001b[0m/\n",
            " model.png\n",
            " nofight.mp4\n",
            " output2.png\n",
            " output.png\n",
            "\u001b[01;34m'Pre Defence'\u001b[0m/\n",
            " predefence.h5\n",
            " predefence.pdf\n",
            " test2.mp4\n",
            " test.mp4\n",
            " videocnn2.h5\n",
            " videocnntestaccuracy.h5\n",
            " video_fight.mp4\n",
            "'VIOLANCE ACTION RECOGNITION USING COMPUTER VISION.docx'\n"
          ]
        }
      ],
      "source": [
        "ls"
      ]
    },
    {
      "cell_type": "code",
      "execution_count": null,
      "metadata": {
        "id": "qa1hOpM_4fl8"
      },
      "outputs": [],
      "source": [
        "import os\n",
        "import cv2\n",
        "import numpy as np\n",
        "np.random.seed(1337) # just for reproducibility\n",
        "import tensorflow\n",
        "from tensorflow import keras\n",
        "from tensorflow.keras import applications\n",
        "from tensorflow.keras.preprocessing.image import ImageDataGenerator\n",
        "from tensorflow.keras.optimizers import SGD\n",
        "from tensorflow.keras import Model, Sequential\n",
        "import tensorflow.keras.layers\n",
        "from tensorflow.keras.layers import Dropout, Dense, Flatten\n",
        "from tensorflow.keras.layers import ConvLSTM2D\n",
        "from sklearn.model_selection import train_test_split\n",
        "import tensorflow.keras.metrics as km\n",
        "from sklearn.metrics import classification_report\n",
        "from sklearn.metrics import accuracy_score\n",
        "from sklearn.metrics import precision_score\n",
        "from sklearn.metrics import recall_score\n",
        "from sklearn.metrics import f1_score\n",
        "from sklearn.metrics import cohen_kappa_score\n",
        "from sklearn.metrics import roc_auc_score"
      ]
    },
    {
      "cell_type": "markdown",
      "metadata": {
        "id": "LfQuNEx-Jkt2"
      },
      "source": [
        "## Preprocess"
      ]
    },
    {
      "cell_type": "code",
      "execution_count": null,
      "metadata": {
        "id": "am-vdnvd4uLJ"
      },
      "outputs": [],
      "source": [
        "data_dir = './datasets'\n",
        "img_height , img_width = 90, 90\n",
        "seq_len = 40\n",
        " \n",
        "classes = [\"noFight\", \"fight\"]"
      ]
    },
    {
      "cell_type": "code",
      "execution_count": null,
      "metadata": {
        "id": "ef8SBBZQ5AjM"
      },
      "outputs": [],
      "source": [
        "#  Creating frames from videos\n",
        " \n",
        "def frames_extraction(video_path):\n",
        "    frames_list = []\n",
        "     \n",
        "    vidObj = cv2.VideoCapture(video_path)\n",
        "    # Used as counter variable \n",
        "    count = 1\n",
        " \n",
        "    while count <= seq_len: \n",
        "        success, image = vidObj.read() \n",
        "        if success:\n",
        "            image = cv2.resize(image, (img_height, img_width))\n",
        "            frames_list.append(image)\n",
        "            count += 1\n",
        "        else:\n",
        "            print(\"Defected frame\")\n",
        "            break\n",
        " \n",
        "            \n",
        "    return frames_list"
      ]
    },
    {
      "cell_type": "code",
      "execution_count": null,
      "metadata": {
        "colab": {
          "base_uri": "https://localhost:8080/"
        },
        "id": "rfRDwItd5bIC",
        "outputId": "867d4f49-4f5b-4945-ffaf-b11f161f2f3e"
      },
      "outputs": [
        {
          "name": "stdout",
          "output_type": "stream",
          "text": [
            "fight\n",
            "Defected frame\n",
            "Defected frame\n",
            "Defected frame\n",
            "Defected frame\n",
            "Defected frame\n",
            "Defected frame\n",
            "Defected frame\n",
            "Defected frame\n",
            "Defected frame\n",
            "Defected frame\n",
            "Defected frame\n",
            "Defected frame\n",
            "noFight\n",
            "Defected frame\n",
            "Defected frame\n",
            "Defected frame\n",
            "Defected frame\n",
            "Defected frame\n",
            "Defected frame\n",
            "Defected frame\n",
            "Defected frame\n",
            "Defected frame\n",
            "Defected frame\n",
            "Defected frame\n",
            "Defected frame\n",
            "Defected frame\n",
            "Defected frame\n"
          ]
        }
      ],
      "source": [
        "def create_data(input_dir):\n",
        "    X = []\n",
        "    Y = []\n",
        "     \n",
        "    classes_list = os.listdir(input_dir)\n",
        "     \n",
        "    for c in classes_list:\n",
        "        print(c)\n",
        "        files_list = os.listdir(os.path.join(input_dir, c))\n",
        "        for f in files_list[:600]:\n",
        "            frames = frames_extraction(os.path.join(os.path.join(input_dir, c), f))\n",
        "            if len(frames) == seq_len:\n",
        "                X.append(frames)\n",
        "             \n",
        "                y = [0]*len(classes)\n",
        "                y[classes.index(c)] = 1\n",
        "                Y.append(y)\n",
        "     \n",
        "    X = np.asarray(X)\n",
        "    Y = np.asarray(Y)\n",
        "    return X, Y\n",
        " \n",
        "X, Y = create_data(data_dir)"
      ]
    },
    {
      "cell_type": "code",
      "execution_count": null,
      "metadata": {
        "colab": {
          "base_uri": "https://localhost:8080/"
        },
        "id": "R7y0RZnb5wP0",
        "outputId": "cb1e3fbe-3d63-462d-98d1-777aa8a00106"
      },
      "outputs": [
        {
          "name": "stdout",
          "output_type": "stream",
          "text": [
            "(274, 40, 90, 90, 3)\n",
            "(274, 2)\n"
          ]
        }
      ],
      "source": [
        "print(np.shape(X))\n",
        "print(np.shape(Y))"
      ]
    },
    {
      "cell_type": "code",
      "execution_count": null,
      "metadata": {
        "id": "Go_t_x8c525K"
      },
      "outputs": [],
      "source": [
        "X_train, X_test, y_train, y_test = train_test_split(X, Y, test_size=0.2, shuffle=True, random_state=1)"
      ]
    },
    {
      "cell_type": "code",
      "execution_count": null,
      "metadata": {
        "id": "vYa6-wZ9dbCY"
      },
      "outputs": [],
      "source": [
        "import tensorflow as tf\n",
        "\n",
        "from tensorflow import keras\n",
        "from tensorflow.keras import layers"
      ]
    },
    {
      "cell_type": "markdown",
      "metadata": {
        "id": "aUjFjVLaut9e"
      },
      "source": [
        "## 3D CNN"
      ]
    },
    {
      "cell_type": "code",
      "execution_count": null,
      "metadata": {
        "colab": {
          "base_uri": "https://localhost:8080/"
        },
        "id": "jKMEomi5u504",
        "outputId": "39e3ff7a-27cc-4262-ffb3-5c314ddead8b"
      },
      "outputs": [
        {
          "name": "stdout",
          "output_type": "stream",
          "text": [
            "Model: \"sequential\"\n",
            "_________________________________________________________________\n",
            "Layer (type)                 Output Shape              Param #   \n",
            "=================================================================\n",
            "conv3d (Conv3D)              (None, 38, 88, 88, 32)    2624      \n",
            "_________________________________________________________________\n",
            "max_pooling3d (MaxPooling3D) (None, 19, 44, 44, 32)    0         \n",
            "_________________________________________________________________\n",
            "batch_normalization (BatchNo (None, 19, 44, 44, 32)    128       \n",
            "_________________________________________________________________\n",
            "dropout (Dropout)            (None, 19, 44, 44, 32)    0         \n",
            "_________________________________________________________________\n",
            "conv3d_1 (Conv3D)            (None, 17, 42, 42, 64)    55360     \n",
            "_________________________________________________________________\n",
            "max_pooling3d_1 (MaxPooling3 (None, 8, 21, 21, 64)     0         \n",
            "_________________________________________________________________\n",
            "batch_normalization_1 (Batch (None, 8, 21, 21, 64)     256       \n",
            "_________________________________________________________________\n",
            "dropout_1 (Dropout)          (None, 8, 21, 21, 64)     0         \n",
            "_________________________________________________________________\n",
            "flatten (Flatten)            (None, 225792)            0         \n",
            "_________________________________________________________________\n",
            "dense (Dense)                (None, 256)               57803008  \n",
            "_________________________________________________________________\n",
            "dense_1 (Dense)              (None, 256)               65792     \n",
            "_________________________________________________________________\n",
            "dense_2 (Dense)              (None, 2)                 514       \n",
            "=================================================================\n",
            "Total params: 57,927,682\n",
            "Trainable params: 57,927,490\n",
            "Non-trainable params: 192\n",
            "_________________________________________________________________\n",
            "Epoch 1/25\n",
            "31/31 [==============================] - 37s 119ms/step - loss: 36.6807 - accuracy: 0.5546 - val_loss: 407.1996 - val_accuracy: 0.4394\n",
            "Epoch 2/25\n",
            "31/31 [==============================] - 3s 93ms/step - loss: 34.0832 - accuracy: 0.5712 - val_loss: 19.0086 - val_accuracy: 0.4545\n",
            "Epoch 3/25\n",
            "31/31 [==============================] - 3s 93ms/step - loss: 17.4747 - accuracy: 0.7105 - val_loss: 29.1247 - val_accuracy: 0.5303\n",
            "Epoch 4/25\n",
            "31/31 [==============================] - 3s 93ms/step - loss: 17.3410 - accuracy: 0.6418 - val_loss: 48.3453 - val_accuracy: 0.4545\n",
            "Epoch 5/25\n",
            "31/31 [==============================] - 3s 94ms/step - loss: 9.8497 - accuracy: 0.7505 - val_loss: 14.7036 - val_accuracy: 0.5455\n",
            "Epoch 6/25\n",
            "31/31 [==============================] - 3s 94ms/step - loss: 6.2072 - accuracy: 0.7958 - val_loss: 26.3053 - val_accuracy: 0.5909\n",
            "Epoch 7/25\n",
            "31/31 [==============================] - 3s 94ms/step - loss: 18.3529 - accuracy: 0.7633 - val_loss: 74.8252 - val_accuracy: 0.4545\n",
            "Epoch 8/25\n",
            "31/31 [==============================] - 3s 95ms/step - loss: 4.3825 - accuracy: 0.8605 - val_loss: 16.9434 - val_accuracy: 0.4697\n",
            "Epoch 9/25\n",
            "31/31 [==============================] - 3s 95ms/step - loss: 6.3975 - accuracy: 0.8750 - val_loss: 22.7778 - val_accuracy: 0.5000\n",
            "Epoch 10/25\n",
            "31/31 [==============================] - 3s 95ms/step - loss: 4.3907 - accuracy: 0.9187 - val_loss: 36.1377 - val_accuracy: 0.5303\n",
            "Epoch 11/25\n",
            "31/31 [==============================] - 3s 94ms/step - loss: 7.0822 - accuracy: 0.9057 - val_loss: 15.1972 - val_accuracy: 0.5606\n",
            "Epoch 12/25\n",
            "31/31 [==============================] - 3s 95ms/step - loss: 1.0191 - accuracy: 0.9133 - val_loss: 13.2604 - val_accuracy: 0.4848\n",
            "Epoch 13/25\n",
            "31/31 [==============================] - 3s 95ms/step - loss: 1.9231 - accuracy: 0.9238 - val_loss: 14.5405 - val_accuracy: 0.5909\n",
            "Epoch 14/25\n",
            "31/31 [==============================] - 3s 96ms/step - loss: 1.6266 - accuracy: 0.9702 - val_loss: 25.1160 - val_accuracy: 0.4545\n",
            "Epoch 15/25\n",
            "31/31 [==============================] - 3s 96ms/step - loss: 1.2091 - accuracy: 0.9544 - val_loss: 23.1662 - val_accuracy: 0.4545\n",
            "Epoch 16/25\n",
            "31/31 [==============================] - 3s 96ms/step - loss: 1.3060 - accuracy: 0.9665 - val_loss: 14.7853 - val_accuracy: 0.4545\n",
            "Epoch 17/25\n",
            "31/31 [==============================] - 3s 96ms/step - loss: 0.2406 - accuracy: 0.9830 - val_loss: 16.3882 - val_accuracy: 0.5000\n",
            "Epoch 18/25\n",
            "31/31 [==============================] - 3s 98ms/step - loss: 0.4773 - accuracy: 0.9832 - val_loss: 37.5076 - val_accuracy: 0.4697\n",
            "Epoch 19/25\n",
            "31/31 [==============================] - 3s 97ms/step - loss: 2.8170 - accuracy: 0.9038 - val_loss: 34.1435 - val_accuracy: 0.4848\n",
            "Epoch 20/25\n",
            "31/31 [==============================] - 3s 97ms/step - loss: 0.2715 - accuracy: 0.9795 - val_loss: 27.3321 - val_accuracy: 0.5000\n",
            "Epoch 21/25\n",
            "31/31 [==============================] - 3s 98ms/step - loss: 3.8773 - accuracy: 0.9604 - val_loss: 24.6724 - val_accuracy: 0.5455\n",
            "Epoch 22/25\n",
            "31/31 [==============================] - 3s 98ms/step - loss: 0.2778 - accuracy: 0.9736 - val_loss: 33.6776 - val_accuracy: 0.4697\n",
            "Epoch 23/25\n",
            "31/31 [==============================] - 3s 99ms/step - loss: 0.1040 - accuracy: 0.9925 - val_loss: 30.0465 - val_accuracy: 0.4848\n",
            "Epoch 24/25\n",
            "31/31 [==============================] - 3s 98ms/step - loss: 1.3401 - accuracy: 0.9491 - val_loss: 22.1034 - val_accuracy: 0.5303\n",
            "Epoch 25/25\n",
            "31/31 [==============================] - 3s 99ms/step - loss: 1.0214 - accuracy: 0.9787 - val_loss: 27.0682 - val_accuracy: 0.4697\n"
          ]
        }
      ],
      "source": [
        "# Create the model\n",
        "model = Sequential()\n",
        "model.add(layers.Conv3D(32, kernel_size=(3, 3, 3), activation='relu', kernel_initializer='he_uniform', input_shape=(seq_len, img_height, img_width, 3)))\n",
        "model.add(layers.MaxPooling3D(pool_size=(2, 2, 2)))\n",
        "model.add(layers.BatchNormalization(center=True, scale=True))\n",
        "model.add(layers.Dropout(0.5))\n",
        "model.add(layers.Conv3D(64, kernel_size=(3, 3, 3), activation='relu', kernel_initializer='he_uniform'))\n",
        "model.add(layers.MaxPooling3D(pool_size=(2, 2, 2)))\n",
        "model.add(layers.BatchNormalization(center=True, scale=True))\n",
        "model.add(layers.Dropout(0.5))\n",
        "model.add(layers.Flatten())\n",
        "model.add(layers.Dense(256, activation='relu', kernel_initializer='he_uniform'))\n",
        "model.add(layers.Dense(256, activation='relu', kernel_initializer='he_uniform'))\n",
        "model.add(layers.Dense(2, activation='softmax'))\n",
        "\n",
        "# Compile the model\n",
        "model.compile(loss='categorical_crossentropy',\n",
        "              optimizer=keras.optimizers.Adam(lr=0.001),\n",
        "              metrics=['accuracy'])\n",
        "model.summary()\n",
        "# Fit data to model\n",
        "history = model.fit(X_train, y_train,\n",
        "            batch_size=5,\n",
        "            epochs=25,\n",
        "            verbose=1,\n",
        "            validation_split=0.3)"
      ]
    },
    {
      "cell_type": "code",
      "execution_count": null,
      "metadata": {
        "colab": {
          "base_uri": "https://localhost:8080/"
        },
        "id": "PFL9bBS3qcyF",
        "outputId": "da9a4532-65d6-40a3-f550-2801793659aa"
      },
      "outputs": [
        {
          "name": "stdout",
          "output_type": "stream",
          "text": [
            "Calculating model accuracy\n",
            "2/2 [==============================] - 1s 551ms/step - loss: 18.6609 - accuracy: 0.5455\n",
            "Test Accuracy: 54.54545617103577\n"
          ]
        }
      ],
      "source": [
        "print(\"Calculating model accuracy\")\n",
        "scores = model.evaluate(X_test, y_test)\n",
        "print(f\"Test Accuracy: {scores[1]*100}\")"
      ]
    },
    {
      "cell_type": "code",
      "execution_count": null,
      "metadata": {
        "colab": {
          "base_uri": "https://localhost:8080/"
        },
        "id": "6Ki4TbTg9Vvh",
        "outputId": "7142efe9-5f41-4f1f-fc06-9d8292e68b74"
      },
      "outputs": [
        {
          "name": "stdout",
          "output_type": "stream",
          "text": [
            "              precision    recall  f1-score   support\n",
            "\n",
            "           0       0.54      0.71      0.62        28\n",
            "           1       0.56      0.37      0.44        27\n",
            "\n",
            "    accuracy                           0.55        55\n",
            "   macro avg       0.55      0.54      0.53        55\n",
            "weighted avg       0.55      0.55      0.53        55\n",
            "\n"
          ]
        }
      ],
      "source": [
        "y_pred1 = model.predict(X_test)\n",
        "y_pred1 = np.argmax(y_pred1, axis = 1)\n",
        "y_test1 = np.argmax(y_test, axis = 1)\n",
        "print(classification_report(y_test1, y_pred1))"
      ]
    },
    {
      "cell_type": "code",
      "execution_count": null,
      "metadata": {
        "colab": {
          "base_uri": "https://localhost:8080/"
        },
        "id": "ORlwT01O7-Y5",
        "outputId": "74208c38-7ea1-4736-eba6-4c739f7d7c05"
      },
      "outputs": [
        {
          "name": "stdout",
          "output_type": "stream",
          "text": [
            "[[20  8]\n",
            " [17 10]]\n"
          ]
        }
      ],
      "source": [
        "from sklearn.metrics import confusion_matrix\n",
        "mypreds = model.predict(X_test).argmax(axis=1)\n",
        "cm = confusion_matrix(y_test1, mypreds)\n",
        "print(cm)"
      ]
    },
    {
      "cell_type": "code",
      "execution_count": null,
      "metadata": {
        "id": "Vfb0_JHb8K5n"
      },
      "outputs": [],
      "source": [
        "import itertools\n",
        "import matplotlib.pyplot as plt\n",
        "def plot_confusion_matrix(cm, classes,\n",
        "                          normalize=False,\n",
        "                          title='Confusion matrix',\n",
        "                          cmap=plt.cm.Blues):\n",
        "    \"\"\"\n",
        "    This function prints and plots the confusion matrix.\n",
        "    Normalization can be applied by setting `normalize=True`.\n",
        "    \"\"\"\n",
        "    plt.imshow(cm, interpolation='nearest', cmap=cmap)\n",
        "    plt.title(title)\n",
        "    plt.colorbar()\n",
        "    tick_marks = np.arange(len(classes))\n",
        "    plt.xticks(tick_marks, classes, rotation=45)\n",
        "    plt.yticks(tick_marks, classes)\n",
        "\n",
        "    if normalize:\n",
        "        cm = cm.astype('float') / cm.sum(axis=1)[:, np.newaxis]\n",
        "\n",
        "    thresh = cm.max() / 2.\n",
        "    for i, j in itertools.product(range(cm.shape[0]), range(cm.shape[1])):\n",
        "        plt.text(j, i, cm[i, j],\n",
        "                 horizontalalignment=\"center\",\n",
        "                 color=\"white\" if cm[i, j] > thresh else \"black\")\n",
        "\n",
        "    plt.tight_layout()\n",
        "    plt.ylabel('True label')\n",
        "    plt.xlabel('Predicted label')"
      ]
    },
    {
      "cell_type": "code",
      "execution_count": null,
      "metadata": {
        "colab": {
          "base_uri": "https://localhost:8080/",
          "height": 311
        },
        "id": "oZII1NZs8QJ7",
        "outputId": "fc8585da-6786-42d6-a821-da38b8071a47"
      },
      "outputs": [
        {
          "data": {
            "image/png": "[encoded data removed]",
            "text/plain": [
              "<Figure size 432x288 with 2 Axes>"
            ]
          },
          "metadata": {
            "tags": []
          },
          "output_type": "display_data"
        }
      ],
      "source": [
        "plot_confusion_matrix(cm, classes=['Violence','No Violence']) "
      ]
    },
    {
      "cell_type": "code",
      "execution_count": null,
      "metadata": {
        "id": "E3kYCAt2xAWk"
      },
      "outputs": [],
      "source": [
        "import sklearn \n",
        "from sklearn.metrics import confusion_matrix"
      ]
    },
    {
      "cell_type": "code",
      "execution_count": null,
      "metadata": {
        "id": "VPzxluLiDOtx"
      },
      "outputs": [],
      "source": [
        "import numpy as np\n",
        "import matplotlib.pyplot as plt\n",
        "\n",
        "from sklearn import svm, datasets\n",
        "from sklearn.model_selection import train_test_split\n",
        "from sklearn.metrics import confusion_matrix\n",
        "from sklearn.metrics import confusion_matrix\n",
        "from sklearn.metrics import plot_confusion_matrix"
      ]
    },
    {
      "cell_type": "code",
      "execution_count": null,
      "metadata": {
        "id": "5sR6Zfb9GMHK"
      },
      "outputs": [],
      "source": [
        "import scikitplot"
      ]
    },
    {
      "cell_type": "code",
      "execution_count": null,
      "metadata": {
        "colab": {
          "base_uri": "https://localhost:8080/",
          "height": 129
        },
        "id": "tBNzorBJEgsk",
        "outputId": "5de019f0-7cd4-4759-ab6e-a99df100f631"
      },
      "outputs": [
        {
          "ename": "IndentationError",
          "evalue": "ignored",
          "output_type": "error",
          "traceback": [
            "\u001b[0;36m  File \u001b[0;32m\"<ipython-input-72-e39c4f15027a>\"\u001b[0;36m, line \u001b[0;32m2\u001b[0m\n\u001b[0;31m    plot_confusion_matrix(np.argmax(y_test, axis=1), y_pred1, figsize=(7,7))\u001b[0m\n\u001b[0m    ^\u001b[0m\n\u001b[0;31mIndentationError\u001b[0m\u001b[0;31m:\u001b[0m unexpected indent\n"
          ]
        }
      ],
      "source": [
        "y_pred1 = model.predict(X_test) \n",
        "scikitplot.metrics.plot_confusion_matrix(np.argmax(y_test, axis=1), y_pred1, figsize=(7,7))\n",
        "pyplot.savefig(\"confusion_matrix_dcnn.png\")\n",
        " "
      ]
    },
    {
      "cell_type": "code",
      "execution_count": null,
      "metadata": {
        "colab": {
          "base_uri": "https://localhost:8080/",
          "height": 367
        },
        "id": "l0puUMoWynyf",
        "outputId": "02da04cd-5806-41da-d76e-8176c25a3494"
      },
      "outputs": [
        {
          "ename": "ValueError",
          "evalue": "ignored",
          "output_type": "error",
          "traceback": [
            "\u001b[0;31m---------------------------------------------------------------------------\u001b[0m",
            "\u001b[0;31mValueError\u001b[0m                                Traceback (most recent call last)",
            "\u001b[0;32m<ipython-input-59-2f56fa8976f1>\u001b[0m in \u001b[0;36m<module>\u001b[0;34m()\u001b[0m\n\u001b[1;32m     11\u001b[0m \u001b[0mcm\u001b[0m \u001b[0;34m=\u001b[0m \u001b[0mconfusion_matrix\u001b[0m\u001b[0;34m(\u001b[0m\u001b[0my_test1\u001b[0m\u001b[0;34m,\u001b[0m \u001b[0my_pred1\u001b[0m\u001b[0;34m)\u001b[0m\u001b[0;34m\u001b[0m\u001b[0;34m\u001b[0m\u001b[0m\n\u001b[1;32m     12\u001b[0m \u001b[0mcm_plot_labels\u001b[0m \u001b[0;34m=\u001b[0m \u001b[0;34m[\u001b[0m\u001b[0;34m'diseaseAffectedEggplant'\u001b[0m\u001b[0;34m,\u001b[0m\u001b[0;34m'freshEggplant'\u001b[0m\u001b[0;34m]\u001b[0m\u001b[0;34m\u001b[0m\u001b[0;34m\u001b[0m\u001b[0m\n\u001b[0;32m---> 13\u001b[0;31m \u001b[0mfigure\u001b[0m \u001b[0;34m=\u001b[0m \u001b[0mplot_confusion_matrix\u001b[0m\u001b[0;34m(\u001b[0m\u001b[0mcm\u001b[0m\u001b[0;34m,\u001b[0m\u001b[0mX_test\u001b[0m\u001b[0;34m,\u001b[0m\u001b[0my_test\u001b[0m\u001b[0;34m,\u001b[0m\u001b[0;34m[\u001b[0m\u001b[0;34m's'\u001b[0m\u001b[0;34m,\u001b[0m\u001b[0;34m'sd'\u001b[0m\u001b[0;34m]\u001b[0m\u001b[0;34m,\u001b[0m\u001b[0mnormalize\u001b[0m\u001b[0;34m=\u001b[0m\u001b[0;32mTrue\u001b[0m \u001b[0;34m)\u001b[0m\u001b[0;34m\u001b[0m\u001b[0;34m\u001b[0m\u001b[0m\n\u001b[0m\u001b[1;32m     14\u001b[0m \u001b[0mcm_image\u001b[0m \u001b[0;34m=\u001b[0m \u001b[0mplot_to_image\u001b[0m\u001b[0;34m(\u001b[0m\u001b[0mfigure\u001b[0m\u001b[0;34m)\u001b[0m\u001b[0;34m\u001b[0m\u001b[0;34m\u001b[0m\u001b[0m\n\u001b[1;32m     15\u001b[0m \u001b[0;34m\u001b[0m\u001b[0m\n",
            "\u001b[0;32m/usr/local/lib/python3.7/dist-packages/sklearn/metrics/_plot/confusion_matrix.py\u001b[0m in \u001b[0;36mplot_confusion_matrix\u001b[0;34m(estimator, X, y_true, labels, sample_weight, normalize, display_labels, include_values, xticks_rotation, values_format, cmap, ax)\u001b[0m\n\u001b[1;32m    181\u001b[0m \u001b[0;34m\u001b[0m\u001b[0m\n\u001b[1;32m    182\u001b[0m     \u001b[0;32mif\u001b[0m \u001b[0;32mnot\u001b[0m \u001b[0mis_classifier\u001b[0m\u001b[0;34m(\u001b[0m\u001b[0mestimator\u001b[0m\u001b[0;34m)\u001b[0m\u001b[0;34m:\u001b[0m\u001b[0;34m\u001b[0m\u001b[0;34m\u001b[0m\u001b[0m\n\u001b[0;32m--> 183\u001b[0;31m         \u001b[0;32mraise\u001b[0m \u001b[0mValueError\u001b[0m\u001b[0;34m(\u001b[0m\u001b[0;34m\"plot_confusion_matrix only supports classifiers\"\u001b[0m\u001b[0;34m)\u001b[0m\u001b[0;34m\u001b[0m\u001b[0;34m\u001b[0m\u001b[0m\n\u001b[0m\u001b[1;32m    184\u001b[0m \u001b[0;34m\u001b[0m\u001b[0m\n\u001b[1;32m    185\u001b[0m     \u001b[0my_pred\u001b[0m \u001b[0;34m=\u001b[0m \u001b[0mestimator\u001b[0m\u001b[0;34m.\u001b[0m\u001b[0mpredict\u001b[0m\u001b[0;34m(\u001b[0m\u001b[0mX\u001b[0m\u001b[0;34m)\u001b[0m\u001b[0;34m\u001b[0m\u001b[0;34m\u001b[0m\u001b[0m\n",
            "\u001b[0;31mValueError\u001b[0m: plot_confusion_matrix only supports classifiers"
          ]
        }
      ],
      "source": [
        "\n",
        "y_pred1 = model.predict(X_test)\n",
        "y_pred1 = np.argmax(y_pred1, axis = 1)\n",
        "y_test1 = np.argmax(y_test, axis = 1)\n",
        "#print(classification_report(y_test1, y_pred1))\n",
        "# Confusion Matrix\n",
        "from sklearn.metrics import confusion_matrix\n",
        "from sklearn.metrics import plot_confusion_matrix\n",
        "\n",
        "\n",
        "cm = confusion_matrix(y_test1, y_pred1)\n",
        "cm_plot_labels = ['diseaseAffectedEggplant','freshEggplant']\n",
        "figure = plot_confusion_matrix(cm,X_test,y_test,['s','sd'],normalize=True )\n",
        "cm_image = plot_to_image(figure)\n",
        "\n",
        "cm\n",
        " "
      ]
    },
    {
      "cell_type": "code",
      "execution_count": null,
      "metadata": {
        "colab": {
          "base_uri": "https://localhost:8080/",
          "height": 231
        },
        "id": "9x4Kg7P80YoM",
        "outputId": "f465fc90-66a7-4af7-d56a-9bf9085a1bd8"
      },
      "outputs": [
        {
          "ename": "NameError",
          "evalue": "ignored",
          "output_type": "error",
          "traceback": [
            "\u001b[0;31m---------------------------------------------------------------------------\u001b[0m",
            "\u001b[0;31mNameError\u001b[0m                                 Traceback (most recent call last)",
            "\u001b[0;32m<ipython-input-34-28fe45f51ede>\u001b[0m in \u001b[0;36m<module>\u001b[0;34m()\u001b[0m\n\u001b[1;32m      7\u001b[0m \u001b[0;34m\u001b[0m\u001b[0m\n\u001b[1;32m      8\u001b[0m \u001b[0;31m# NOTE: Fill all variables here with default values of the plot_confusion_matrix\u001b[0m\u001b[0;34m\u001b[0m\u001b[0;34m\u001b[0m\u001b[0;34m\u001b[0m\u001b[0m\n\u001b[0;32m----> 9\u001b[0;31m disp = disp.plot(include_values=include_values,\n\u001b[0m\u001b[1;32m     10\u001b[0m                  cmap=cmap, ax=ax, xticks_rotation=xticks_rotation)\n\u001b[1;32m     11\u001b[0m \u001b[0;34m\u001b[0m\u001b[0m\n",
            "\u001b[0;31mNameError\u001b[0m: name 'include_values' is not defined"
          ]
        }
      ],
      "source": [
        "import matplotlib.pyplot as plt\n",
        "from sklearn.metrics import ConfusionMatrixDisplay\n",
        "\n",
        "disp = ConfusionMatrixDisplay(confusion_matrix=cm,\n",
        "                              display_labels=cm_plot_labels)\n",
        "\n",
        "\n",
        "# NOTE: Fill all variables here with default values of the plot_confusion_matrix\n",
        "disp = disp.plot(include_values=include_values,\n",
        "                 cmap=cmap, ax=ax, xticks_rotation=xticks_rotation)\n",
        "\n",
        "plt.show()"
      ]
    },
    {
      "cell_type": "code",
      "execution_count": null,
      "metadata": {
        "colab": {
          "base_uri": "https://localhost:8080/",
          "height": 429
        },
        "id": "QDm0OvOlwFCn",
        "outputId": "e99aea2b-bb08-405c-e15e-c9b4e4047431"
      },
      "outputs": [
        {
          "ename": "KeyError",
          "evalue": "ignored",
          "output_type": "error",
          "traceback": [
            "\u001b[0;31m---------------------------------------------------------------------------\u001b[0m",
            "\u001b[0;31mKeyError\u001b[0m                                  Traceback (most recent call last)",
            "\u001b[0;32m<ipython-input-26-8ff43a272372>\u001b[0m in \u001b[0;36m<module>\u001b[0;34m()\u001b[0m\n\u001b[1;32m      4\u001b[0m \u001b[0;34m\u001b[0m\u001b[0m\n\u001b[1;32m      5\u001b[0m \u001b[0;32mfor\u001b[0m \u001b[0mi\u001b[0m\u001b[0;34m,\u001b[0m \u001b[0mmetric\u001b[0m \u001b[0;32min\u001b[0m \u001b[0menumerate\u001b[0m\u001b[0;34m(\u001b[0m\u001b[0;34m[\u001b[0m\u001b[0;34m\"accuracy\"\u001b[0m\u001b[0;34m,\u001b[0m \u001b[0;34m\"loss\"\u001b[0m\u001b[0;34m]\u001b[0m\u001b[0;34m)\u001b[0m\u001b[0;34m:\u001b[0m\u001b[0;34m\u001b[0m\u001b[0;34m\u001b[0m\u001b[0m\n\u001b[0;32m----> 6\u001b[0;31m     \u001b[0max\u001b[0m\u001b[0;34m[\u001b[0m\u001b[0mi\u001b[0m\u001b[0;34m]\u001b[0m\u001b[0;34m.\u001b[0m\u001b[0mplot\u001b[0m\u001b[0;34m(\u001b[0m\u001b[0mmodel\u001b[0m\u001b[0;34m.\u001b[0m\u001b[0mhistory\u001b[0m\u001b[0;34m.\u001b[0m\u001b[0mhistory\u001b[0m\u001b[0;34m[\u001b[0m\u001b[0mmetric\u001b[0m\u001b[0;34m]\u001b[0m\u001b[0;34m)\u001b[0m\u001b[0;34m\u001b[0m\u001b[0;34m\u001b[0m\u001b[0m\n\u001b[0m\u001b[1;32m      7\u001b[0m     \u001b[0max\u001b[0m\u001b[0;34m[\u001b[0m\u001b[0mi\u001b[0m\u001b[0;34m]\u001b[0m\u001b[0;34m.\u001b[0m\u001b[0mplot\u001b[0m\u001b[0;34m(\u001b[0m\u001b[0mmodel\u001b[0m\u001b[0;34m.\u001b[0m\u001b[0mhistory\u001b[0m\u001b[0;34m.\u001b[0m\u001b[0mhistory\u001b[0m\u001b[0;34m[\u001b[0m\u001b[0;34m\"val_\"\u001b[0m \u001b[0;34m+\u001b[0m \u001b[0mmetric\u001b[0m\u001b[0;34m]\u001b[0m\u001b[0;34m)\u001b[0m\u001b[0;34m\u001b[0m\u001b[0;34m\u001b[0m\u001b[0m\n\u001b[1;32m      8\u001b[0m     \u001b[0max\u001b[0m\u001b[0;34m[\u001b[0m\u001b[0mi\u001b[0m\u001b[0;34m]\u001b[0m\u001b[0;34m.\u001b[0m\u001b[0mset_title\u001b[0m\u001b[0;34m(\u001b[0m\u001b[0;34m\"Model {}\"\u001b[0m\u001b[0;34m.\u001b[0m\u001b[0mformat\u001b[0m\u001b[0;34m(\u001b[0m\u001b[0mmetric\u001b[0m\u001b[0;34m)\u001b[0m\u001b[0;34m)\u001b[0m\u001b[0;34m\u001b[0m\u001b[0;34m\u001b[0m\u001b[0m\n",
            "\u001b[0;31mKeyError\u001b[0m: 'accuracy'"
          ]
        },
        {
          "data": {
            "image/png": "[encoded data removed]",
            "text/plain": [
              "<Figure size 1440x216 with 2 Axes>"
            ]
          },
          "metadata": {
            "tags": []
          },
          "output_type": "display_data"
        }
      ],
      "source": [
        "import matplotlib.pyplot as plt\n",
        "fig, ax = plt.subplots(1, 2, figsize=(20, 3))\n",
        "ax = ax.ravel()\n",
        "\n",
        "for i, metric in enumerate([\"accuracy\", \"loss\"]):\n",
        "    ax[i].plot(model.history.history[metric])\n",
        "    ax[i].plot(model.history.history[\"val_\" + metric])\n",
        "    ax[i].set_title(\"Model {}\".format(metric))\n",
        "    ax[i].set_xlabel(\"epochs\")\n",
        "    ax[i].set_ylabel(metric)\n",
        "    ax[i].legend([\"train\", \"val\"])\n",
        "\n",
        "\n",
        "y_pred1 = model.predict(X_test)\n",
        "y_pred1 = np.argmax(y_pred1, axis = 1)\n",
        "y_test1 = np.argmax(y_test, axis = 1)\n",
        "print(classification_report(y_test1, y_pred1))"
      ]
    },
    {
      "cell_type": "markdown",
      "metadata": {
        "id": "OF8R-4HSwFS3"
      },
      "source": [
        "## CONVLSTM2D"
      ]
    },
    {
      "cell_type": "code",
      "execution_count": null,
      "metadata": {
        "id": "jFUOP7kBwIPr"
      },
      "outputs": [],
      "source": [
        "model = Sequential()\n",
        "model.add(ConvLSTM2D(filters = 72, kernel_size = (3, 3), return_sequences = False, data_format = \"channels_last\", input_shape = (seq_len, img_height, img_width, 3)))\n",
        "model.add(Dropout(0.2))\n",
        "model.add(Flatten())\n",
        "model.add(Dense(254, activation=\"relu\"))\n",
        "model.add(Dropout(0.3))\n",
        "model.add(Dense(2, activation = \"softmax\"))"
      ]
    },
    {
      "cell_type": "code",
      "execution_count": null,
      "metadata": {
        "id": "3dexFqC919B8"
      },
      "outputs": [],
      "source": [
        "opt = SGD(lr=0.001)\n",
        "#model.compile(loss='categorical_crossentropy', optimizer=opt, metrics=[\"accuracy\"])\n",
        "#history = model.fit(x=X_train, y=y_train, epochs=25, batch_size = 5,shuffle = False, validation_split=0.1)"
      ]
    },
    {
      "cell_type": "code",
      "execution_count": null,
      "metadata": {
        "colab": {
          "base_uri": "https://localhost:8080/"
        },
        "id": "ZzcYccUX2cFK",
        "outputId": "0168f8e0-089c-415c-9228-efde400e7cc7"
      },
      "outputs": [
        {
          "name": "stdout",
          "output_type": "stream",
          "text": [
            "Model: \"sequential_1\"\n",
            "_________________________________________________________________\n",
            "Layer (type)                 Output Shape              Param #   \n",
            "=================================================================\n",
            "conv_lst_m2d (ConvLSTM2D)    (None, 88, 88, 72)        194688    \n",
            "_________________________________________________________________\n",
            "dropout_2 (Dropout)          (None, 88, 88, 72)        0         \n",
            "_________________________________________________________________\n",
            "flatten_1 (Flatten)          (None, 557568)            0         \n",
            "_________________________________________________________________\n",
            "dense_3 (Dense)              (None, 254)               141622526 \n",
            "_________________________________________________________________\n",
            "dropout_3 (Dropout)          (None, 254)               0         \n",
            "_________________________________________________________________\n",
            "dense_4 (Dense)              (None, 2)                 510       \n",
            "=================================================================\n",
            "Total params: 141,817,724\n",
            "Trainable params: 141,817,724\n",
            "Non-trainable params: 0\n",
            "_________________________________________________________________\n",
            "Epoch 1/25\n",
            "31/31 [==============================] - 39s 1s/step - loss: 33.3594 - accuracy: 0.4917 - val_loss: 24.2690 - val_accuracy: 0.5606\n",
            "Epoch 2/25\n",
            "31/31 [==============================] - 35s 1s/step - loss: 18.1144 - accuracy: 0.5419 - val_loss: 10.2432 - val_accuracy: 0.6212\n",
            "Epoch 3/25\n",
            "31/31 [==============================] - 35s 1s/step - loss: 19.9735 - accuracy: 0.6520 - val_loss: 9.9993 - val_accuracy: 0.4697\n",
            "Epoch 4/25\n",
            "31/31 [==============================] - 35s 1s/step - loss: 5.5690 - accuracy: 0.6043 - val_loss: 12.3387 - val_accuracy: 0.4242\n",
            "Epoch 5/25\n",
            "31/31 [==============================] - 35s 1s/step - loss: 4.3918 - accuracy: 0.7068 - val_loss: 1.8963 - val_accuracy: 0.5606\n",
            "Epoch 6/25\n",
            "31/31 [==============================] - 35s 1s/step - loss: 1.1149 - accuracy: 0.7676 - val_loss: 2.8915 - val_accuracy: 0.5303\n",
            "Epoch 7/25\n",
            "31/31 [==============================] - 35s 1s/step - loss: 2.0221 - accuracy: 0.7861 - val_loss: 1.3225 - val_accuracy: 0.5758\n",
            "Epoch 8/25\n",
            "31/31 [==============================] - 35s 1s/step - loss: 0.5987 - accuracy: 0.8495 - val_loss: 1.5630 - val_accuracy: 0.5606\n",
            "Epoch 9/25\n",
            "31/31 [==============================] - 35s 1s/step - loss: 0.4329 - accuracy: 0.8606 - val_loss: 1.6258 - val_accuracy: 0.5909\n",
            "Epoch 10/25\n",
            "31/31 [==============================] - 35s 1s/step - loss: 0.8807 - accuracy: 0.9364 - val_loss: 0.9150 - val_accuracy: 0.6970\n",
            "Epoch 11/25\n",
            "31/31 [==============================] - 35s 1s/step - loss: 0.6433 - accuracy: 0.8903 - val_loss: 1.1524 - val_accuracy: 0.6515\n",
            "Epoch 12/25\n",
            "31/31 [==============================] - 35s 1s/step - loss: 0.2465 - accuracy: 0.8871 - val_loss: 1.1935 - val_accuracy: 0.6515\n",
            "Epoch 13/25\n",
            "31/31 [==============================] - 35s 1s/step - loss: 0.1288 - accuracy: 0.9264 - val_loss: 1.2735 - val_accuracy: 0.6818\n",
            "Epoch 14/25\n",
            "31/31 [==============================] - 35s 1s/step - loss: 0.3594 - accuracy: 0.9603 - val_loss: 2.5064 - val_accuracy: 0.5758\n",
            "Epoch 15/25\n",
            "31/31 [==============================] - 35s 1s/step - loss: 0.1828 - accuracy: 0.9452 - val_loss: 1.7023 - val_accuracy: 0.6212\n",
            "Epoch 16/25\n",
            "31/31 [==============================] - 35s 1s/step - loss: 0.0893 - accuracy: 0.9721 - val_loss: 1.5491 - val_accuracy: 0.6212\n",
            "Epoch 17/25\n",
            "31/31 [==============================] - 35s 1s/step - loss: 0.0930 - accuracy: 0.9716 - val_loss: 2.6789 - val_accuracy: 0.5000\n",
            "Epoch 18/25\n",
            "31/31 [==============================] - 35s 1s/step - loss: 0.4539 - accuracy: 0.8480 - val_loss: 1.3864 - val_accuracy: 0.5909\n",
            "Epoch 19/25\n",
            "31/31 [==============================] - 35s 1s/step - loss: 0.0818 - accuracy: 0.9443 - val_loss: 1.4676 - val_accuracy: 0.6818\n",
            "Epoch 20/25\n",
            "31/31 [==============================] - 36s 1s/step - loss: 0.0497 - accuracy: 0.9964 - val_loss: 1.3815 - val_accuracy: 0.6364\n",
            "Epoch 21/25\n",
            "31/31 [==============================] - 35s 1s/step - loss: 0.0363 - accuracy: 0.9964 - val_loss: 1.7425 - val_accuracy: 0.6364\n",
            "Epoch 22/25\n",
            "31/31 [==============================] - 35s 1s/step - loss: 0.0291 - accuracy: 0.9911 - val_loss: 1.5074 - val_accuracy: 0.6364\n",
            "Epoch 23/25\n",
            "31/31 [==============================] - 36s 1s/step - loss: 0.0275 - accuracy: 0.9879 - val_loss: 1.6610 - val_accuracy: 0.6212\n",
            "Epoch 24/25\n",
            "31/31 [==============================] - 35s 1s/step - loss: 0.0535 - accuracy: 0.9586 - val_loss: 1.7138 - val_accuracy: 0.6212\n",
            "Epoch 25/25\n",
            "31/31 [==============================] - 35s 1s/step - loss: 0.0420 - accuracy: 0.9494 - val_loss: 1.6973 - val_accuracy: 0.6364\n"
          ]
        }
      ],
      "source": [
        "model.compile(loss='categorical_crossentropy',\n",
        "              optimizer=keras.optimizers.Adam(lr=0.001),\n",
        "              metrics=['accuracy'])\n",
        "model.summary()\n",
        "# Fit data to model\n",
        "history = model.fit(X_train, y_train,\n",
        "            batch_size=5,\n",
        "            epochs=25,\n",
        "            verbose=1,\n",
        "            validation_split=0.3)"
      ]
    },
    {
      "cell_type": "code",
      "execution_count": null,
      "metadata": {
        "colab": {
          "base_uri": "https://localhost:8080/",
          "height": 394
        },
        "id": "M3ocB51z5-rF",
        "outputId": "dbfff256-e137-4243-e8ef-5bd925180bf0"
      },
      "outputs": [
        {
          "name": "stdout",
          "output_type": "stream",
          "text": [
            "              precision    recall  f1-score   support\n",
            "\n",
            "           0       0.83      0.71      0.77        28\n",
            "           1       0.74      0.85      0.79        27\n",
            "\n",
            "    accuracy                           0.78        55\n",
            "   macro avg       0.79      0.78      0.78        55\n",
            "weighted avg       0.79      0.78      0.78        55\n",
            "\n"
          ]
        },
        {
          "data": {
            "image/png": "[encoded data removed]",
            "text/plain": [
              "<Figure size 1440x216 with 2 Axes>"
            ]
          },
          "metadata": {
            "tags": []
          },
          "output_type": "display_data"
        }
      ],
      "source": [
        "import matplotlib.pyplot as plt\n",
        "fig, ax = plt.subplots(1, 2, figsize=(20, 3))\n",
        "ax = ax.ravel()\n",
        "\n",
        "for i, metric in enumerate([\"accuracy\", \"loss\"]):\n",
        "    ax[i].plot(model.history.history[metric])\n",
        "    ax[i].plot(model.history.history[\"val_\" + metric])\n",
        "    ax[i].set_title(\"Model {}\".format(metric))\n",
        "    ax[i].set_xlabel(\"epochs\")\n",
        "    ax[i].set_ylabel(metric)\n",
        "    ax[i].legend([\"train\", \"val\"])\n",
        "\n",
        "\n",
        "y_pred1 = model.predict(X_test)\n",
        "y_pred1 = np.argmax(y_pred1, axis = 1)\n",
        "y_test1 = np.argmax(y_test, axis = 1)\n",
        "print(classification_report(y_test1, y_pred1))"
      ]
    },
    {
      "cell_type": "code",
      "execution_count": null,
      "metadata": {
        "colab": {
          "base_uri": "https://localhost:8080/",
          "height": 295
        },
        "id": "hjhZmuyB612i",
        "outputId": "0fb6d19d-5fe0-4a4f-fc82-77cd36ce05e2"
      },
      "outputs": [
        {
          "data": {
            "image/png": "[encoded data removed]",
            "text/plain": [
              "<Figure size 432x288 with 1 Axes>"
            ]
          },
          "metadata": {
            "tags": []
          },
          "output_type": "display_data"
        }
      ],
      "source": [
        "import matplotlib.pyplot as plt\n",
        "\n",
        "plt.plot(history.history['accuracy'])\n",
        "plt.plot(history.history['val_accuracy'])\n",
        "plt.title('model accuracy')\n",
        "plt.ylabel('accuracy')\n",
        "plt.xlabel('epoch')\n",
        "plt.legend(['train', 'test'], loc='upper left')\n",
        "plt.show()"
      ]
    },
    {
      "cell_type": "code",
      "execution_count": null,
      "metadata": {
        "colab": {
          "base_uri": "https://localhost:8080/",
          "height": 295
        },
        "id": "4bCmJMhg64V4",
        "outputId": "df390d8a-c5e4-4c5f-e4ba-4c25e9883f22"
      },
      "outputs": [
        {
          "data": {
            "image/png": "[encoded data removed]",
            "text/plain": [
              "<Figure size 432x288 with 1 Axes>"
            ]
          },
          "metadata": {
            "tags": []
          },
          "output_type": "display_data"
        }
      ],
      "source": [
        "plt.plot(history.history['loss'])\n",
        "plt.plot(history.history['val_loss']) \n",
        "plt.title('model loss')\n",
        "plt.ylabel('loss')\n",
        "plt.xlabel('epoch')\n",
        "plt.legend(['train', 'test'], loc='upper left')\n",
        "plt.show()"
      ]
    },
    {
      "cell_type": "code",
      "execution_count": null,
      "metadata": {
        "colab": {
          "base_uri": "https://localhost:8080/"
        },
        "id": "lw22ifDd7m07",
        "outputId": "37977c86-4248-46cf-8e69-204b6633d7ff"
      },
      "outputs": [
        {
          "name": "stdout",
          "output_type": "stream",
          "text": [
            "              precision    recall  f1-score   support\n",
            "\n",
            "           0       0.83      0.71      0.77        28\n",
            "           1       0.74      0.85      0.79        27\n",
            "\n",
            "    accuracy                           0.78        55\n",
            "   macro avg       0.79      0.78      0.78        55\n",
            "weighted avg       0.79      0.78      0.78        55\n",
            "\n"
          ]
        }
      ],
      "source": [
        "y_pred1 = model.predict(X_test)\n",
        "y_pred1 = np.argmax(y_pred1, axis = 1)\n",
        "y_test1 = np.argmax(y_test, axis = 1)\n",
        "print(classification_report(y_test1, y_pred1))"
      ]
    },
    {
      "cell_type": "code",
      "execution_count": null,
      "metadata": {
        "colab": {
          "base_uri": "https://localhost:8080/"
        },
        "id": "nzu29ggCAz7H",
        "outputId": "1def2f74-4272-4ab4-a660-d6ce249a538c"
      },
      "outputs": [
        {
          "name": "stdout",
          "output_type": "stream",
          "text": [
            "[[21  7]\n",
            " [12 15]]\n"
          ]
        }
      ],
      "source": [
        "from sklearn.metrics import confusion_matrix\n",
        "mypreds = model.predict(X_test).argmax(axis=1)\n",
        "cm = confusion_matrix(y_test1, mypreds)\n",
        "print(cm)"
      ]
    },
    {
      "cell_type": "code",
      "execution_count": null,
      "metadata": {
        "colab": {
          "base_uri": "https://localhost:8080/",
          "height": 311
        },
        "id": "nIfjmnkrBARF",
        "outputId": "73ee4c35-622e-412c-81c5-dcaf43f52e6d"
      },
      "outputs": [
        {
          "data": {
            "image/png": "[encoded data removed]",
            "text/plain": [
              "<Figure size 432x288 with 2 Axes>"
            ]
          },
          "metadata": {
            "tags": []
          },
          "output_type": "display_data"
        }
      ],
      "source": [
        "plot_confusion_matrix(cm, classes=['Violence','No Violence']) "
      ]
    },
    {
      "cell_type": "code",
      "execution_count": null,
      "metadata": {
        "id": "G1Ylz7Hp6TNx"
      },
      "outputs": [],
      "source": [
        "model.save('./predefence.h5')"
      ]
    },
    {
      "cell_type": "code",
      "execution_count": null,
      "metadata": {
        "colab": {
          "base_uri": "https://localhost:8080/"
        },
        "id": "na3qHdTFenbs",
        "outputId": "19f877d8-2275-4ee2-b5a7-86441c050e72"
      },
      "outputs": [
        {
          "name": "stdout",
          "output_type": "stream",
          "text": [
            "Collecting keras-visualizer\n",
            "  Downloading https://files.pythonhosted.org/packages/7f/33/d95aabf4a19ba02d6800f9f7b34d614b1bfa1f2da2b08a0897df08d2cfc4/keras_visualizer-2.4-py3-none-any.whl\n",
            "Installing collected packages: keras-visualizer\n",
            "Successfully installed keras-visualizer-2.4\n"
          ]
        }
      ],
      "source": [
        "!pip3 install keras-visualizer"
      ]
    },
    {
      "cell_type": "code",
      "execution_count": null,
      "metadata": {
        "id": "xO44P7ZNhPOQ"
      },
      "outputs": [],
      "source": []
    },
    {
      "cell_type": "markdown",
      "metadata": {
        "id": "g8vn0DsqwJAC"
      },
      "source": [
        "## 3D CNN+CONVLSTM"
      ]
    },
    {
      "cell_type": "code",
      "execution_count": null,
      "metadata": {
        "colab": {
          "base_uri": "https://localhost:8080/"
        },
        "id": "NTUvltu7wMeB",
        "outputId": "36204b3e-b0d9-4015-9e6f-913dafd6bfbb"
      },
      "outputs": [
        {
          "name": "stdout",
          "output_type": "stream",
          "text": [
            "Model: \"sequential_4\"\n",
            "_________________________________________________________________\n",
            "Layer (type)                 Output Shape              Param #   \n",
            "=================================================================\n",
            "conv3d_4 (Conv3D)            (None, 38, 88, 88, 32)    2624      \n",
            "_________________________________________________________________\n",
            "max_pooling3d_4 (MaxPooling3 (None, 19, 44, 44, 32)    0         \n",
            "_________________________________________________________________\n",
            "batch_normalization_4 (Batch (None, 19, 44, 44, 32)    128       \n",
            "_________________________________________________________________\n",
            "conv_lst_m2d_2 (ConvLSTM2D)  (None, 42, 42, 72)        269856    \n",
            "_________________________________________________________________\n",
            "dropout_8 (Dropout)          (None, 42, 42, 72)        0         \n",
            "_________________________________________________________________\n",
            "flatten_4 (Flatten)          (None, 127008)            0         \n",
            "_________________________________________________________________\n",
            "dense_10 (Dense)             (None, 254)               32260286  \n",
            "_________________________________________________________________\n",
            "dropout_9 (Dropout)          (None, 254)               0         \n",
            "_________________________________________________________________\n",
            "dense_11 (Dense)             (None, 2)                 510       \n",
            "=================================================================\n",
            "Total params: 32,533,404\n",
            "Trainable params: 32,533,340\n",
            "Non-trainable params: 64\n",
            "_________________________________________________________________\n",
            "Epoch 1/25\n",
            "31/31 [==============================] - 10s 244ms/step - loss: 8.0326 - accuracy: 0.4583 - val_loss: 4.7700 - val_accuracy: 0.5152\n",
            "Epoch 2/25\n",
            "31/31 [==============================] - 7s 230ms/step - loss: 2.0901 - accuracy: 0.6710 - val_loss: 2.6815 - val_accuracy: 0.5606\n",
            "Epoch 3/25\n",
            "31/31 [==============================] - 7s 234ms/step - loss: 0.8776 - accuracy: 0.6673 - val_loss: 0.8079 - val_accuracy: 0.6364\n",
            "Epoch 4/25\n",
            "31/31 [==============================] - 7s 235ms/step - loss: 0.5819 - accuracy: 0.8024 - val_loss: 0.9663 - val_accuracy: 0.5455\n",
            "Epoch 5/25\n",
            "31/31 [==============================] - 7s 235ms/step - loss: 0.5363 - accuracy: 0.7678 - val_loss: 0.6268 - val_accuracy: 0.6667\n",
            "Epoch 6/25\n",
            "31/31 [==============================] - 7s 233ms/step - loss: 0.3359 - accuracy: 0.8263 - val_loss: 0.9010 - val_accuracy: 0.5455\n",
            "Epoch 7/25\n",
            "31/31 [==============================] - 7s 236ms/step - loss: 0.1547 - accuracy: 0.9419 - val_loss: 0.8416 - val_accuracy: 0.6970\n",
            "Epoch 8/25\n",
            "31/31 [==============================] - 7s 238ms/step - loss: 0.2187 - accuracy: 0.9420 - val_loss: 1.0272 - val_accuracy: 0.5455\n",
            "Epoch 9/25\n",
            "31/31 [==============================] - 7s 238ms/step - loss: 0.4376 - accuracy: 0.9047 - val_loss: 1.1543 - val_accuracy: 0.5909\n",
            "Epoch 10/25\n",
            "31/31 [==============================] - 7s 234ms/step - loss: 0.2900 - accuracy: 0.8781 - val_loss: 2.9000 - val_accuracy: 0.5909\n",
            "Epoch 11/25\n",
            "31/31 [==============================] - 7s 236ms/step - loss: 0.2269 - accuracy: 0.9330 - val_loss: 1.3774 - val_accuracy: 0.6212\n",
            "Epoch 12/25\n",
            "31/31 [==============================] - 7s 233ms/step - loss: 0.3697 - accuracy: 0.9591 - val_loss: 1.2951 - val_accuracy: 0.5455\n",
            "Epoch 13/25\n",
            "31/31 [==============================] - 7s 232ms/step - loss: 0.5145 - accuracy: 0.8906 - val_loss: 1.3297 - val_accuracy: 0.6667\n",
            "Epoch 14/25\n",
            "31/31 [==============================] - 7s 233ms/step - loss: 0.2716 - accuracy: 0.9216 - val_loss: 1.1344 - val_accuracy: 0.6212\n",
            "Epoch 15/25\n",
            "31/31 [==============================] - 7s 234ms/step - loss: 0.1128 - accuracy: 0.9374 - val_loss: 1.2226 - val_accuracy: 0.6515\n",
            "Epoch 16/25\n",
            "31/31 [==============================] - 7s 234ms/step - loss: 0.1730 - accuracy: 0.9346 - val_loss: 1.4560 - val_accuracy: 0.5758\n",
            "Epoch 17/25\n",
            "31/31 [==============================] - 7s 233ms/step - loss: 0.3212 - accuracy: 0.9195 - val_loss: 1.8813 - val_accuracy: 0.6061\n",
            "Epoch 18/25\n",
            "31/31 [==============================] - 7s 234ms/step - loss: 0.2362 - accuracy: 0.9620 - val_loss: 1.5417 - val_accuracy: 0.6364\n",
            "Epoch 19/25\n",
            "31/31 [==============================] - 7s 235ms/step - loss: 0.0925 - accuracy: 0.9552 - val_loss: 1.6435 - val_accuracy: 0.5152\n",
            "Epoch 20/25\n",
            "31/31 [==============================] - 7s 234ms/step - loss: 0.0348 - accuracy: 0.9897 - val_loss: 1.2231 - val_accuracy: 0.6667\n",
            "Epoch 21/25\n",
            "31/31 [==============================] - 7s 232ms/step - loss: 0.1369 - accuracy: 0.9743 - val_loss: 2.1650 - val_accuracy: 0.5758\n",
            "Epoch 22/25\n",
            "31/31 [==============================] - 7s 234ms/step - loss: 0.1511 - accuracy: 0.9829 - val_loss: 1.8933 - val_accuracy: 0.5455\n",
            "Epoch 23/25\n",
            "31/31 [==============================] - 7s 232ms/step - loss: 0.0958 - accuracy: 0.9728 - val_loss: 1.2020 - val_accuracy: 0.6818\n",
            "Epoch 24/25\n",
            "31/31 [==============================] - 7s 232ms/step - loss: 0.1121 - accuracy: 0.9797 - val_loss: 1.8294 - val_accuracy: 0.6364\n",
            "Epoch 25/25\n",
            "31/31 [==============================] - 7s 233ms/step - loss: 0.1000 - accuracy: 0.9769 - val_loss: 1.8347 - val_accuracy: 0.5152\n"
          ]
        }
      ],
      "source": [
        "model = Sequential()\n",
        "model.add(layers.Conv3D(32, kernel_size=(3, 3, 3), activation='relu', kernel_initializer='he_uniform', input_shape=(seq_len, img_height, img_width, 3)))\n",
        "model.add(layers.MaxPooling3D(pool_size=(2, 2, 2)))\n",
        "model.add(layers.BatchNormalization(center=True, scale=True))\n",
        "#model.add(layers.Dropout(0.5)) \n",
        "#model.add(layers.Flatten())\n",
        "\n",
        " \n",
        "model.add(ConvLSTM2D(filters = 72, kernel_size = (3, 3), return_sequences = False, data_format = \"channels_last\"))\n",
        "model.add(Dropout(0.2))\n",
        "model.add(Flatten())\n",
        "model.add(Dense(254, activation=\"relu\"))\n",
        "model.add(Dropout(0.3))\n",
        "model.add(Dense(2, activation = \"softmax\"))\n",
        "# Compile the model\n",
        "model.compile(loss='categorical_crossentropy',\n",
        "              optimizer=keras.optimizers.Adam(lr=0.001),\n",
        "              metrics=['accuracy'])\n",
        "model.summary()\n",
        "# Fit data to model\n",
        "history = model.fit(X_train, y_train,\n",
        "            batch_size=5,\n",
        "            epochs=25,\n",
        "            verbose=1,\n",
        "            validation_split=0.3)"
      ]
    },
    {
      "cell_type": "code",
      "execution_count": null,
      "metadata": {
        "colab": {
          "base_uri": "https://localhost:8080/",
          "height": 394
        },
        "id": "mlG7CN37955_",
        "outputId": "524ec693-a3e4-476d-bb59-2540fb309ddb"
      },
      "outputs": [
        {
          "name": "stdout",
          "output_type": "stream",
          "text": [
            "              precision    recall  f1-score   support\n",
            "\n",
            "           0       0.58      0.64      0.61        28\n",
            "           1       0.58      0.52      0.55        27\n",
            "\n",
            "    accuracy                           0.58        55\n",
            "   macro avg       0.58      0.58      0.58        55\n",
            "weighted avg       0.58      0.58      0.58        55\n",
            "\n"
          ]
        },
        {
          "data": {
            "image/png": "[encoded data removed]",
            "text/plain": [
              "<Figure size 1440x216 with 2 Axes>"
            ]
          },
          "metadata": {
            "tags": []
          },
          "output_type": "display_data"
        }
      ],
      "source": [
        "import matplotlib.pyplot as plt\n",
        "fig, ax = plt.subplots(1, 2, figsize=(20, 3))\n",
        "ax = ax.ravel()\n",
        "\n",
        "for i, metric in enumerate([\"accuracy\", \"loss\"]):\n",
        "    ax[i].plot(model.history.history[metric])\n",
        "    ax[i].plot(model.history.history[\"val_\" + metric])\n",
        "    ax[i].set_title(\"Model {}\".format(metric))\n",
        "    ax[i].set_xlabel(\"epochs\")\n",
        "    ax[i].set_ylabel(metric)\n",
        "    ax[i].legend([\"train\", \"val\"])\n",
        "\n",
        "\n",
        "y_pred1 = model.predict(X_test)\n",
        "y_pred1 = np.argmax(y_pred1, axis = 1)\n",
        "y_test1 = np.argmax(y_test, axis = 1)\n",
        "print(classification_report(y_test1, y_pred1))"
      ]
    },
    {
      "cell_type": "code",
      "execution_count": null,
      "metadata": {
        "id": "uTe1LpR__5Hj"
      },
      "outputs": [],
      "source": []
    },
    {
      "cell_type": "markdown",
      "metadata": {
        "id": "7D5QRD2LGF39"
      },
      "source": [
        "## Firebase"
      ]
    },
    {
      "cell_type": "code",
      "execution_count": null,
      "metadata": {
        "colab": {
          "base_uri": "https://localhost:8080/"
        },
        "id": "33ZRYNtfGI1g",
        "outputId": "1ad33e80-9932-48a7-f324-ec25d7d9bdf5"
      },
      "outputs": [
        {
          "name": "stdout",
          "output_type": "stream",
          "text": [
            "Collecting git+https://github.com/ozgur/python-firebase\n",
            "  Cloning https://github.com/ozgur/python-firebase to /tmp/pip-req-build-b8giuszw\n",
            "  Running command git clone -q https://github.com/ozgur/python-firebase /tmp/pip-req-build-b8giuszw\n",
            "Requirement already satisfied (use --upgrade to upgrade): python-firebase==1.2.1 from git+https://github.com/ozgur/python-firebase in /usr/local/lib/python3.7/dist-packages\n",
            "Requirement already satisfied: requests>=1.1.0 in /usr/local/lib/python3.7/dist-packages (from python-firebase==1.2.1) (2.23.0)\n",
            "Requirement already satisfied: certifi>=2017.4.17 in /usr/local/lib/python3.7/dist-packages (from requests>=1.1.0->python-firebase==1.2.1) (2020.12.5)\n",
            "Requirement already satisfied: chardet<4,>=3.0.2 in /usr/local/lib/python3.7/dist-packages (from requests>=1.1.0->python-firebase==1.2.1) (3.0.4)\n",
            "Requirement already satisfied: idna<3,>=2.5 in /usr/local/lib/python3.7/dist-packages (from requests>=1.1.0->python-firebase==1.2.1) (2.10)\n",
            "Requirement already satisfied: urllib3!=1.25.0,!=1.25.1,<1.26,>=1.21.1 in /usr/local/lib/python3.7/dist-packages (from requests>=1.1.0->python-firebase==1.2.1) (1.24.3)\n",
            "Building wheels for collected packages: python-firebase\n",
            "  Building wheel for python-firebase (setup.py) ... \u001b[?25l\u001b[?25hdone\n",
            "  Created wheel for python-firebase: filename=python_firebase-1.2.1-cp37-none-any.whl size=12533 sha256=9aec6082656a11b935e67037eb0973dfb688b5ac80418c57875846d0c148c824\n",
            "  Stored in directory: /tmp/pip-ephem-wheel-cache-ynuh181b/wheels/ef/40/57/99d925b3495995b9930edfb8f4033cb9a8dbf838848d5a65ba\n",
            "Successfully built python-firebase\n"
          ]
        }
      ],
      "source": [
        "pip install git+https://github.com/ozgur/python-firebase"
      ]
    },
    {
      "cell_type": "code",
      "execution_count": null,
      "metadata": {
        "id": "-coiSkGNGR9v"
      },
      "outputs": [],
      "source": [
        "credentials = \"./ai-cctv-c37fe-default-rtdb-export.json\"\n",
        "img = \"./output2.png\""
      ]
    },
    {
      "cell_type": "code",
      "execution_count": null,
      "metadata": {
        "id": "EStW46UBGqSm"
      },
      "outputs": [],
      "source": [
        "from firebase import firebase \n",
        "import os\n",
        "credentials = \"./ai-cctv-c37fe-default-rtdb-export.json\"  #<add your credentials path>\n",
        "#database\n",
        "def violance(nf,lc,src):\n",
        "  img = \"./output2.png\"\n",
        "  os.environ[\"GOOGLE_APPLICATION_CREDENTIALS\"]=credentials\n",
        "  firebase1 = firebase.FirebaseApplication('https://ai-cctv-c37fe-default-rtdb.firebaseio.com/') #'<your firebase database path>'\n",
        "  data={\n",
        "      \"Text\": nf,\n",
        "      \"Location\": lc,\n",
        "      \"Image\":src\n",
        "  }\n",
        "\n",
        "  data2={\"Test\":\"ok\"}\n",
        "  #res = firebase1.post(\"Violance\",data) \n",
        "  res=firebase1.put(\"\",\"Violance/Text\",nf)\n",
        "  firebase1.put(\"\",\"Violance/Location\", lc)\n",
        "  firebase1.put(\"\",\"Violance/Message\",src)\n",
        " \n",
        "  return res"
      ]
    },
    {
      "cell_type": "code",
      "execution_count": null,
      "metadata": {
        "id": "AmbdxKWeG4nb"
      },
      "outputs": [],
      "source": [
        " #violance(\"Violance\",\"Goplagnaj\",\"test\")"
      ]
    },
    {
      "cell_type": "markdown",
      "metadata": {
        "id": "i8YcnxaRAJvx"
      },
      "source": [
        "# Demo"
      ]
    },
    {
      "cell_type": "code",
      "execution_count": null,
      "metadata": {
        "id": "nGaLI6O2AaND"
      },
      "outputs": [],
      "source": [
        "from keras.models import load_model\n",
        "import cv2\n",
        "import numpy as np\n",
        "\n",
        "model = load_model('./predefence.h5')"
      ]
    },
    {
      "cell_type": "code",
      "execution_count": null,
      "metadata": {
        "colab": {
          "base_uri": "https://localhost:8080/"
        },
        "id": "VntJigcDARnO",
        "outputId": "83fc71e9-6a69-4b3f-e01e-a35ca8da40a7"
      },
      "outputs": [
        {
          "name": "stdout",
          "output_type": "stream",
          "text": [
            "[[0.7280339 0.2719661]]\n",
            "Predicted: NonViolence\n",
            "[[0.01608301 0.98391706]]\n",
            "Predicted: Violence\n"
          ]
        }
      ],
      "source": [
        "video_path = './video_fight.mp4'\n",
        "category =['NonViolence', 'Violence']\n",
        "frames = []\n",
        "frame_count = 0\n",
        "queue=[]\n",
        "cap = cv2.VideoCapture(video_path) # 0 for using webcam\n",
        "while True:\n",
        "    _,frame = cap.read()\n",
        "    #cv2.imshow('Window',frame)\n",
        "    frame = cv2.resize(frame, (90, 90))\n",
        "    gray = cv2.cvtColor(frame,cv2.COLOR_BGR2GRAY)\n",
        "    #faces = cascade.detectMultiScale(gray,1.1,3)\n",
        "    \n",
        "    #for x,y,w,h in faces:\n",
        "        #cv2.rectangle(frame,(x,y),(x+w,y+h),(0,0,255),2)\n",
        "    \n",
        "    frame_count += 1\n",
        "    frames.append(frame)\n",
        "\n",
        "    if frame_count < 5:\n",
        "        continue # capture frames until you get the required number for sequence\n",
        "    else:\n",
        "        frame_count = 0\n",
        "    # For each frame, extract feature and prepare it for classification\n",
        "    sequence = []\n",
        "    for image in frames:\n",
        "        sequence.append(image) \n",
        "\n",
        "    prediction = model.predict(np.expand_dims(sequence, axis=0))\n",
        "    print(prediction)\n",
        "    queue.append(prediction)\n",
        "    results = np.array(queue).mean(axis=0)\n",
        "    i = category[np.argmax(results)]\n",
        "    print('Predicted: '+ i)\n",
        "    \n",
        "    if i=='Violence':\n",
        "        #cv2.imshow('Window',frame)\n",
        "        cv2.imwrite(\"output2.png\",frame)\n",
        "        violance(\"Violance\",\"Goplagnaj\",\"h\")\n",
        "        #plt.imshow(\"output2.png\")\n",
        "        break\n",
        "    else:\n",
        "        violance(\"No Violance\",\"Goplagnaj\",\"h\")\n",
        "    \n",
        "        \n",
        "    if cv2.waitKey(1)==ord('q'):\n",
        "        cap.release()\n",
        "        cv2.destroyAllWindows()\n",
        "        break"
      ]
    },
    {
      "cell_type": "code",
      "execution_count": null,
      "metadata": {
        "colab": {
          "base_uri": "https://localhost:8080/",
          "height": 268
        },
        "id": "tio-02GVB3O5",
        "outputId": "6706ed45-1c0a-4dc6-e2be-86af85efcebe"
      },
      "outputs": [
        {
          "data": {
            "image/png": "[encoded data removed]",
            "text/plain": [
              "<Figure size 432x288 with 1 Axes>"
            ]
          },
          "metadata": {
            "tags": []
          },
          "output_type": "display_data"
        }
      ],
      "source": [
        "import matplotlib.pyplot as plt\n",
        "import matplotlib.image as mpimg\n",
        "img = mpimg.imread(\"output2.png\")\n",
        "#print(img)\n",
        "imgplot = plt.imshow(img)"
      ]
    },
    {
      "cell_type": "code",
      "execution_count": null,
      "metadata": {
        "colab": {
          "base_uri": "https://localhost:8080/",
          "height": 741
        },
        "id": "7bNofw_-IgBB",
        "outputId": "a84468b7-18dd-4828-8603-f41636e2e188"
      },
      "outputs": [
        {
          "name": "stdout",
          "output_type": "stream",
          "text": [
            "[[0.99566734 0.00433264]]\n",
            "Predicted: NonViolence\n",
            "[[0.971892   0.02810799]]\n",
            "Predicted: NonViolence\n",
            "[[0.9412605  0.05873951]]\n",
            "Predicted: NonViolence\n",
            "[[0.93256557 0.06743447]]\n",
            "Predicted: NonViolence\n",
            "[[0.8815898  0.11841018]]\n",
            "Predicted: NonViolence\n",
            "[[0.9313589  0.06864105]]\n",
            "Predicted: NonViolence\n",
            "[[0.9335066  0.06649334]]\n",
            "Predicted: NonViolence\n",
            "[[0.63468635 0.36531362]]\n",
            "Predicted: NonViolence\n",
            "[[0.8889165  0.11108352]]\n",
            "Predicted: NonViolence\n",
            "[[0.7320816 0.2679184]]\n",
            "Predicted: NonViolence\n",
            "[[0.5961254 0.4038746]]\n",
            "Predicted: NonViolence\n",
            "[[0.9383749  0.06162512]]\n",
            "Predicted: NonViolence\n",
            "[[0.806196   0.19380404]]\n",
            "Predicted: NonViolence\n",
            "[[0.6697428  0.33025718]]\n",
            "Predicted: NonViolence\n",
            "[[0.8214606  0.17853934]]\n",
            "Predicted: NonViolence\n"
          ]
        },
        {
          "ename": "error",
          "evalue": "ignored",
          "output_type": "error",
          "traceback": [
            "\u001b[0;31m---------------------------------------------------------------------------\u001b[0m",
            "\u001b[0;31merror\u001b[0m                                     Traceback (most recent call last)",
            "\u001b[0;32m<ipython-input-68-7b83aa5b3dd3>\u001b[0m in \u001b[0;36m<module>\u001b[0;34m()\u001b[0m\n\u001b[1;32m      8\u001b[0m     \u001b[0m_\u001b[0m\u001b[0;34m,\u001b[0m\u001b[0mframe\u001b[0m \u001b[0;34m=\u001b[0m \u001b[0mcap\u001b[0m\u001b[0;34m.\u001b[0m\u001b[0mread\u001b[0m\u001b[0;34m(\u001b[0m\u001b[0;34m)\u001b[0m\u001b[0;34m\u001b[0m\u001b[0;34m\u001b[0m\u001b[0m\n\u001b[1;32m      9\u001b[0m     \u001b[0;31m#cv2.imshow('Window',frame)\u001b[0m\u001b[0;34m\u001b[0m\u001b[0;34m\u001b[0m\u001b[0;34m\u001b[0m\u001b[0m\n\u001b[0;32m---> 10\u001b[0;31m     \u001b[0mframe\u001b[0m \u001b[0;34m=\u001b[0m \u001b[0mcv2\u001b[0m\u001b[0;34m.\u001b[0m\u001b[0mresize\u001b[0m\u001b[0;34m(\u001b[0m\u001b[0mframe\u001b[0m\u001b[0;34m,\u001b[0m \u001b[0;34m(\u001b[0m\u001b[0;36m90\u001b[0m\u001b[0;34m,\u001b[0m \u001b[0;36m90\u001b[0m\u001b[0;34m)\u001b[0m\u001b[0;34m)\u001b[0m\u001b[0;34m\u001b[0m\u001b[0;34m\u001b[0m\u001b[0m\n\u001b[0m\u001b[1;32m     11\u001b[0m     \u001b[0mgray\u001b[0m \u001b[0;34m=\u001b[0m \u001b[0mcv2\u001b[0m\u001b[0;34m.\u001b[0m\u001b[0mcvtColor\u001b[0m\u001b[0;34m(\u001b[0m\u001b[0mframe\u001b[0m\u001b[0;34m,\u001b[0m\u001b[0mcv2\u001b[0m\u001b[0;34m.\u001b[0m\u001b[0mCOLOR_BGR2GRAY\u001b[0m\u001b[0;34m)\u001b[0m\u001b[0;34m\u001b[0m\u001b[0;34m\u001b[0m\u001b[0m\n\u001b[1;32m     12\u001b[0m     \u001b[0;31m#faces = cascade.detectMultiScale(gray,1.1,3)\u001b[0m\u001b[0;34m\u001b[0m\u001b[0;34m\u001b[0m\u001b[0;34m\u001b[0m\u001b[0m\n",
            "\u001b[0;31merror\u001b[0m: OpenCV(4.1.2) /io/opencv/modules/imgproc/src/resize.cpp:3720: error: (-215:Assertion failed) !ssize.empty() in function 'resize'\n"
          ]
        }
      ],
      "source": [
        "video_path = './nofight.mp4'\n",
        "category =['NonViolence', 'Violence']\n",
        "frames = []\n",
        "frame_count = 0\n",
        "queue=[]\n",
        "cap = cv2.VideoCapture(video_path) # 0 for using webcam\n",
        "while True:\n",
        "    _,frame = cap.read()\n",
        "    #cv2.imshow('Window',frame)\n",
        "    frame = cv2.resize(frame, (90, 90))\n",
        "    gray = cv2.cvtColor(frame,cv2.COLOR_BGR2GRAY)\n",
        "    #faces = cascade.detectMultiScale(gray,1.1,3)\n",
        "    \n",
        "    #for x,y,w,h in faces:\n",
        "        #cv2.rectangle(frame,(x,y),(x+w,y+h),(0,0,255),2)\n",
        "    \n",
        "    frame_count += 1\n",
        "    frames.append(frame)\n",
        "\n",
        "    if frame_count < 5:\n",
        "        continue # capture frames until you get the required number for sequence\n",
        "    else:\n",
        "        frame_count = 0\n",
        "    # For each frame, extract feature and prepare it for classification\n",
        "    sequence = []\n",
        "    for image in frames:\n",
        "        sequence.append(image) \n",
        "\n",
        "    prediction = model.predict(np.expand_dims(sequence, axis=0))\n",
        "    print(prediction)\n",
        "    queue.append(prediction)\n",
        "    results = np.array(queue).mean(axis=0)\n",
        "    i = category[np.argmax(results)]\n",
        "    print('Predicted: '+ i)\n",
        "    \n",
        "    if i=='Violence':\n",
        "        #cv2.imshow('Window',frame)\n",
        "        cv2.imwrite(\"output2.png\",frame)\n",
        "        violance(\"Violance\",\"Goplagnaj\",\"h\")\n",
        "        #plt.imshow(\"output2.png\")\n",
        "        break\n",
        "    else:\n",
        "        violance(\"No Violance\",\"Goplagnaj\",\"h\")\n",
        "    \n",
        "        \n",
        "    if cv2.waitKey(1)==ord('q'):\n",
        "        cap.release()\n",
        "        cv2.destroyAllWindows()\n",
        "        break"
      ]
    },
    {
      "cell_type": "markdown",
      "metadata": {
        "id": "AB_rQ04VF5xZ"
      },
      "source": [
        "# test"
      ]
    },
    {
      "cell_type": "code",
      "execution_count": null,
      "metadata": {
        "id": "NIHr3aTlGBQJ"
      },
      "outputs": [],
      "source": [
        "data_dir = './datasets'\n",
        "img_height , img_width = 150, 150\n",
        "seq_len = 40\n",
        " \n",
        "classes = [\"noFight\", \"fight\"]"
      ]
    },
    {
      "cell_type": "code",
      "execution_count": null,
      "metadata": {
        "id": "oQuFouddGNGt"
      },
      "outputs": [],
      "source": [
        "#  Creating frames from videos\n",
        " \n",
        "def frames_extraction(video_path):\n",
        "    frames_list = []\n",
        "     \n",
        "    vidObj = cv2.VideoCapture(video_path)\n",
        "    # Used as counter variable \n",
        "    count = 1\n",
        " \n",
        "    while count <= seq_len: \n",
        "        success, image = vidObj.read() \n",
        "        if success:\n",
        "            image = cv2.resize(image, (img_height, img_width))\n",
        "            frames_list.append(image)\n",
        "            count += 1\n",
        "        else:\n",
        "            print(\"Defected frame\")\n",
        "            break\n",
        " \n",
        "            \n",
        "    return frames_list"
      ]
    },
    {
      "cell_type": "code",
      "execution_count": null,
      "metadata": {
        "colab": {
          "background_save": true,
          "base_uri": "https://localhost:8080/"
        },
        "id": "CMh2NQYLGQAz",
        "outputId": "5c03f69a-e257-46e4-d342-2222ba2f9be8"
      },
      "outputs": [
        {
          "name": "stdout",
          "output_type": "stream",
          "text": [
            "fight\n",
            "Defected frame\n",
            "Defected frame\n",
            "Defected frame\n",
            "Defected frame\n",
            "Defected frame\n",
            "Defected frame\n",
            "Defected frame\n",
            "Defected frame\n",
            "Defected frame\n",
            "Defected frame\n",
            "Defected frame\n",
            "Defected frame\n",
            "noFight\n",
            "Defected frame\n",
            "Defected frame\n",
            "Defected frame\n",
            "Defected frame\n",
            "Defected frame\n",
            "Defected frame\n",
            "Defected frame\n",
            "Defected frame\n",
            "Defected frame\n",
            "Defected frame\n",
            "Defected frame\n",
            "Defected frame\n",
            "Defected frame\n",
            "Defected frame\n"
          ]
        }
      ],
      "source": [
        "def create_data(input_dir):\n",
        "    X = []\n",
        "    Y = []\n",
        "     \n",
        "    classes_list = os.listdir(input_dir)\n",
        "     \n",
        "    for c in classes_list:\n",
        "        print(c)\n",
        "        files_list = os.listdir(os.path.join(input_dir, c))\n",
        "        for f in files_list[:600]:\n",
        "            frames = frames_extraction(os.path.join(os.path.join(input_dir, c), f))\n",
        "            if len(frames) == seq_len:\n",
        "                X.append(frames)\n",
        "             \n",
        "                y = [0]*len(classes)\n",
        "                y[classes.index(c)] = 1\n",
        "                Y.append(y)\n",
        "     \n",
        "    X = np.asarray(X)\n",
        "    Y = np.asarray(Y)\n",
        "    return X, Y\n",
        " \n",
        "X, Y = create_data(data_dir)"
      ]
    },
    {
      "cell_type": "code",
      "execution_count": null,
      "metadata": {
        "colab": {
          "background_save": true
        },
        "id": "Ha6XZrjLGTJ9",
        "outputId": "0f542a9b-3e48-4545-b8ee-a15932dfc147"
      },
      "outputs": [
        {
          "name": "stdout",
          "output_type": "stream",
          "text": [
            "(274, 40, 150, 150, 3)\n",
            "(274, 2)\n"
          ]
        }
      ],
      "source": [
        "print(np.shape(X))\n",
        "print(np.shape(Y))"
      ]
    },
    {
      "cell_type": "code",
      "execution_count": null,
      "metadata": {
        "colab": {
          "background_save": true
        },
        "id": "HCV2oh0CGWTN"
      },
      "outputs": [],
      "source": [
        "X_train, X_test, y_train, y_test = train_test_split(X, Y, test_size=0.2, shuffle=True, random_state=1)"
      ]
    },
    {
      "cell_type": "code",
      "execution_count": null,
      "metadata": {
        "colab": {
          "background_save": true
        },
        "id": "kR2Vi6FHGY0M"
      },
      "outputs": [],
      "source": [
        "import tensorflow as tf\n",
        "\n",
        "from tensorflow import keras\n",
        "from tensorflow.keras import layers"
      ]
    },
    {
      "cell_type": "code",
      "execution_count": null,
      "metadata": {
        "colab": {
          "background_save": true
        },
        "id": "rDHcY_DTGdvF"
      },
      "outputs": [],
      "source": [
        "model = Sequential()\n",
        "model.add(ConvLSTM2D(filters = 72, kernel_size = (3, 3), return_sequences = False, data_format = \"channels_last\", input_shape = (seq_len, img_height, img_width, 3)))\n",
        "model.add(Dropout(0.2))\n",
        "model.add(Flatten())\n",
        "model.add(Dense(254, activation=\"relu\"))\n",
        "model.add(Dropout(0.3))\n",
        "model.add(Dense(2, activation = \"softmax\"))"
      ]
    },
    {
      "cell_type": "code",
      "execution_count": null,
      "metadata": {
        "id": "03OnU4sgGluP"
      },
      "outputs": [],
      "source": [
        "model.compile(loss='categorical_crossentropy',\n",
        "              optimizer=keras.optimizers.Adam(lr=0.001),\n",
        "              metrics=['accuracy'])\n",
        "model.summary()\n",
        "# Fit data to model\n",
        "history = model.fit(X_train, y_train,\n",
        "            batch_size=5,\n",
        "            epochs=25,\n",
        "            verbose=1,\n",
        "            validation_split=0.3)"
      ]
    },
    {
      "cell_type": "code",
      "execution_count": null,
      "metadata": {
        "id": "QfR9nHSoG7nw"
      },
      "outputs": [],
      "source": [
        "import matplotlib.pyplot as plt\n",
        "fig, ax = plt.subplots(1, 2, figsize=(20, 3))\n",
        "ax = ax.ravel()\n",
        "\n",
        "for i, metric in enumerate([\"accuracy\", \"loss\"]):\n",
        "    ax[i].plot(model.history.history[metric])\n",
        "    ax[i].plot(model.history.history[\"val_\" + metric])\n",
        "    ax[i].set_title(\"Model {}\".format(metric))\n",
        "    ax[i].set_xlabel(\"epochs\")\n",
        "    ax[i].set_ylabel(metric)\n",
        "    ax[i].legend([\"train\", \"val\"])\n",
        "\n",
        "\n",
        "y_pred1 = model.predict(X_test)\n",
        "y_pred1 = np.argmax(y_pred1, axis = 1)\n",
        "y_test1 = np.argmax(y_test, axis = 1)\n",
        "print(classification_report(y_test1, y_pred1))"
      ]
    }
  ],
  "metadata": {
    "accelerator": "GPU",
    "colab": {
      "provenance": []
    },
    "kernelspec": {
      "display_name": "Python 3",
      "name": "python3"
    },
    "language_info": {
      "name": "python"
    }
  },
  "nbformat": 4,
  "nbformat_minor": 0
}